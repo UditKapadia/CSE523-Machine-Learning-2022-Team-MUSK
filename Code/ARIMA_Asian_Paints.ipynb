{
  "cells": [
    {
      "cell_type": "code",
      "execution_count": 1,
      "metadata": {
        "colab": {
          "base_uri": "https://localhost:8080/"
        },
        "id": "35KMibGiD0cJ",
        "outputId": "338309ce-8984-4a17-ddc1-d4e661dda90c"
      },
      "outputs": [
        {
          "output_type": "stream",
          "name": "stdout",
          "text": [
            "Collecting pmdarima\n",
            "  Downloading pmdarima-1.8.5-cp37-cp37m-manylinux_2_17_x86_64.manylinux2014_x86_64.manylinux_2_24_x86_64.whl (1.4 MB)\n",
            "\u001b[?25l\r\u001b[K     |▎                               | 10 kB 24.2 MB/s eta 0:00:01\r\u001b[K     |▌                               | 20 kB 30.7 MB/s eta 0:00:01\r\u001b[K     |▊                               | 30 kB 30.8 MB/s eta 0:00:01\r\u001b[K     |█                               | 40 kB 21.2 MB/s eta 0:00:01\r\u001b[K     |█▏                              | 51 kB 10.1 MB/s eta 0:00:01\r\u001b[K     |█▍                              | 61 kB 11.7 MB/s eta 0:00:01\r\u001b[K     |█▋                              | 71 kB 10.8 MB/s eta 0:00:01\r\u001b[K     |██                              | 81 kB 11.1 MB/s eta 0:00:01\r\u001b[K     |██▏                             | 92 kB 12.2 MB/s eta 0:00:01\r\u001b[K     |██▍                             | 102 kB 10.5 MB/s eta 0:00:01\r\u001b[K     |██▋                             | 112 kB 10.5 MB/s eta 0:00:01\r\u001b[K     |██▉                             | 122 kB 10.5 MB/s eta 0:00:01\r\u001b[K     |███                             | 133 kB 10.5 MB/s eta 0:00:01\r\u001b[K     |███▎                            | 143 kB 10.5 MB/s eta 0:00:01\r\u001b[K     |███▌                            | 153 kB 10.5 MB/s eta 0:00:01\r\u001b[K     |███▉                            | 163 kB 10.5 MB/s eta 0:00:01\r\u001b[K     |████                            | 174 kB 10.5 MB/s eta 0:00:01\r\u001b[K     |████▎                           | 184 kB 10.5 MB/s eta 0:00:01\r\u001b[K     |████▌                           | 194 kB 10.5 MB/s eta 0:00:01\r\u001b[K     |████▊                           | 204 kB 10.5 MB/s eta 0:00:01\r\u001b[K     |█████                           | 215 kB 10.5 MB/s eta 0:00:01\r\u001b[K     |█████▏                          | 225 kB 10.5 MB/s eta 0:00:01\r\u001b[K     |█████▍                          | 235 kB 10.5 MB/s eta 0:00:01\r\u001b[K     |█████▊                          | 245 kB 10.5 MB/s eta 0:00:01\r\u001b[K     |██████                          | 256 kB 10.5 MB/s eta 0:00:01\r\u001b[K     |██████▏                         | 266 kB 10.5 MB/s eta 0:00:01\r\u001b[K     |██████▍                         | 276 kB 10.5 MB/s eta 0:00:01\r\u001b[K     |██████▋                         | 286 kB 10.5 MB/s eta 0:00:01\r\u001b[K     |██████▉                         | 296 kB 10.5 MB/s eta 0:00:01\r\u001b[K     |███████                         | 307 kB 10.5 MB/s eta 0:00:01\r\u001b[K     |███████▎                        | 317 kB 10.5 MB/s eta 0:00:01\r\u001b[K     |███████▋                        | 327 kB 10.5 MB/s eta 0:00:01\r\u001b[K     |███████▉                        | 337 kB 10.5 MB/s eta 0:00:01\r\u001b[K     |████████                        | 348 kB 10.5 MB/s eta 0:00:01\r\u001b[K     |████████▎                       | 358 kB 10.5 MB/s eta 0:00:01\r\u001b[K     |████████▌                       | 368 kB 10.5 MB/s eta 0:00:01\r\u001b[K     |████████▊                       | 378 kB 10.5 MB/s eta 0:00:01\r\u001b[K     |█████████                       | 389 kB 10.5 MB/s eta 0:00:01\r\u001b[K     |█████████▎                      | 399 kB 10.5 MB/s eta 0:00:01\r\u001b[K     |█████████▌                      | 409 kB 10.5 MB/s eta 0:00:01\r\u001b[K     |█████████▊                      | 419 kB 10.5 MB/s eta 0:00:01\r\u001b[K     |██████████                      | 430 kB 10.5 MB/s eta 0:00:01\r\u001b[K     |██████████▏                     | 440 kB 10.5 MB/s eta 0:00:01\r\u001b[K     |██████████▍                     | 450 kB 10.5 MB/s eta 0:00:01\r\u001b[K     |██████████▋                     | 460 kB 10.5 MB/s eta 0:00:01\r\u001b[K     |██████████▉                     | 471 kB 10.5 MB/s eta 0:00:01\r\u001b[K     |███████████▏                    | 481 kB 10.5 MB/s eta 0:00:01\r\u001b[K     |███████████▍                    | 491 kB 10.5 MB/s eta 0:00:01\r\u001b[K     |███████████▋                    | 501 kB 10.5 MB/s eta 0:00:01\r\u001b[K     |███████████▉                    | 512 kB 10.5 MB/s eta 0:00:01\r\u001b[K     |████████████                    | 522 kB 10.5 MB/s eta 0:00:01\r\u001b[K     |████████████▎                   | 532 kB 10.5 MB/s eta 0:00:01\r\u001b[K     |████████████▌                   | 542 kB 10.5 MB/s eta 0:00:01\r\u001b[K     |████████████▊                   | 552 kB 10.5 MB/s eta 0:00:01\r\u001b[K     |█████████████                   | 563 kB 10.5 MB/s eta 0:00:01\r\u001b[K     |█████████████▎                  | 573 kB 10.5 MB/s eta 0:00:01\r\u001b[K     |█████████████▌                  | 583 kB 10.5 MB/s eta 0:00:01\r\u001b[K     |█████████████▊                  | 593 kB 10.5 MB/s eta 0:00:01\r\u001b[K     |██████████████                  | 604 kB 10.5 MB/s eta 0:00:01\r\u001b[K     |██████████████▏                 | 614 kB 10.5 MB/s eta 0:00:01\r\u001b[K     |██████████████▍                 | 624 kB 10.5 MB/s eta 0:00:01\r\u001b[K     |██████████████▋                 | 634 kB 10.5 MB/s eta 0:00:01\r\u001b[K     |███████████████                 | 645 kB 10.5 MB/s eta 0:00:01\r\u001b[K     |███████████████▏                | 655 kB 10.5 MB/s eta 0:00:01\r\u001b[K     |███████████████▍                | 665 kB 10.5 MB/s eta 0:00:01\r\u001b[K     |███████████████▋                | 675 kB 10.5 MB/s eta 0:00:01\r\u001b[K     |███████████████▉                | 686 kB 10.5 MB/s eta 0:00:01\r\u001b[K     |████████████████                | 696 kB 10.5 MB/s eta 0:00:01\r\u001b[K     |████████████████▎               | 706 kB 10.5 MB/s eta 0:00:01\r\u001b[K     |████████████████▋               | 716 kB 10.5 MB/s eta 0:00:01\r\u001b[K     |████████████████▉               | 727 kB 10.5 MB/s eta 0:00:01\r\u001b[K     |█████████████████               | 737 kB 10.5 MB/s eta 0:00:01\r\u001b[K     |█████████████████▎              | 747 kB 10.5 MB/s eta 0:00:01\r\u001b[K     |█████████████████▌              | 757 kB 10.5 MB/s eta 0:00:01\r\u001b[K     |█████████████████▊              | 768 kB 10.5 MB/s eta 0:00:01\r\u001b[K     |██████████████████              | 778 kB 10.5 MB/s eta 0:00:01\r\u001b[K     |██████████████████▏             | 788 kB 10.5 MB/s eta 0:00:01\r\u001b[K     |██████████████████▌             | 798 kB 10.5 MB/s eta 0:00:01\r\u001b[K     |██████████████████▊             | 808 kB 10.5 MB/s eta 0:00:01\r\u001b[K     |███████████████████             | 819 kB 10.5 MB/s eta 0:00:01\r\u001b[K     |███████████████████▏            | 829 kB 10.5 MB/s eta 0:00:01\r\u001b[K     |███████████████████▍            | 839 kB 10.5 MB/s eta 0:00:01\r\u001b[K     |███████████████████▋            | 849 kB 10.5 MB/s eta 0:00:01\r\u001b[K     |███████████████████▉            | 860 kB 10.5 MB/s eta 0:00:01\r\u001b[K     |████████████████████            | 870 kB 10.5 MB/s eta 0:00:01\r\u001b[K     |████████████████████▍           | 880 kB 10.5 MB/s eta 0:00:01\r\u001b[K     |████████████████████▋           | 890 kB 10.5 MB/s eta 0:00:01\r\u001b[K     |████████████████████▉           | 901 kB 10.5 MB/s eta 0:00:01\r\u001b[K     |█████████████████████           | 911 kB 10.5 MB/s eta 0:00:01\r\u001b[K     |█████████████████████▎          | 921 kB 10.5 MB/s eta 0:00:01\r\u001b[K     |█████████████████████▌          | 931 kB 10.5 MB/s eta 0:00:01\r\u001b[K     |█████████████████████▊          | 942 kB 10.5 MB/s eta 0:00:01\r\u001b[K     |██████████████████████          | 952 kB 10.5 MB/s eta 0:00:01\r\u001b[K     |██████████████████████▎         | 962 kB 10.5 MB/s eta 0:00:01\r\u001b[K     |██████████████████████▌         | 972 kB 10.5 MB/s eta 0:00:01\r\u001b[K     |██████████████████████▊         | 983 kB 10.5 MB/s eta 0:00:01\r\u001b[K     |███████████████████████         | 993 kB 10.5 MB/s eta 0:00:01\r\u001b[K     |███████████████████████▏        | 1.0 MB 10.5 MB/s eta 0:00:01\r\u001b[K     |███████████████████████▍        | 1.0 MB 10.5 MB/s eta 0:00:01\r\u001b[K     |███████████████████████▋        | 1.0 MB 10.5 MB/s eta 0:00:01\r\u001b[K     |████████████████████████        | 1.0 MB 10.5 MB/s eta 0:00:01\r\u001b[K     |████████████████████████▏       | 1.0 MB 10.5 MB/s eta 0:00:01\r\u001b[K     |████████████████████████▍       | 1.1 MB 10.5 MB/s eta 0:00:01\r\u001b[K     |████████████████████████▋       | 1.1 MB 10.5 MB/s eta 0:00:01\r\u001b[K     |████████████████████████▉       | 1.1 MB 10.5 MB/s eta 0:00:01\r\u001b[K     |█████████████████████████       | 1.1 MB 10.5 MB/s eta 0:00:01\r\u001b[K     |█████████████████████████▎      | 1.1 MB 10.5 MB/s eta 0:00:01\r\u001b[K     |█████████████████████████▌      | 1.1 MB 10.5 MB/s eta 0:00:01\r\u001b[K     |█████████████████████████▉      | 1.1 MB 10.5 MB/s eta 0:00:01\r\u001b[K     |██████████████████████████      | 1.1 MB 10.5 MB/s eta 0:00:01\r\u001b[K     |██████████████████████████▎     | 1.1 MB 10.5 MB/s eta 0:00:01\r\u001b[K     |██████████████████████████▌     | 1.1 MB 10.5 MB/s eta 0:00:01\r\u001b[K     |██████████████████████████▊     | 1.2 MB 10.5 MB/s eta 0:00:01\r\u001b[K     |███████████████████████████     | 1.2 MB 10.5 MB/s eta 0:00:01\r\u001b[K     |███████████████████████████▏    | 1.2 MB 10.5 MB/s eta 0:00:01\r\u001b[K     |███████████████████████████▍    | 1.2 MB 10.5 MB/s eta 0:00:01\r\u001b[K     |███████████████████████████▊    | 1.2 MB 10.5 MB/s eta 0:00:01\r\u001b[K     |████████████████████████████    | 1.2 MB 10.5 MB/s eta 0:00:01\r\u001b[K     |████████████████████████████▏   | 1.2 MB 10.5 MB/s eta 0:00:01\r\u001b[K     |████████████████████████████▍   | 1.2 MB 10.5 MB/s eta 0:00:01\r\u001b[K     |████████████████████████████▋   | 1.2 MB 10.5 MB/s eta 0:00:01\r\u001b[K     |████████████████████████████▉   | 1.2 MB 10.5 MB/s eta 0:00:01\r\u001b[K     |█████████████████████████████   | 1.3 MB 10.5 MB/s eta 0:00:01\r\u001b[K     |█████████████████████████████▎  | 1.3 MB 10.5 MB/s eta 0:00:01\r\u001b[K     |█████████████████████████████▋  | 1.3 MB 10.5 MB/s eta 0:00:01\r\u001b[K     |█████████████████████████████▉  | 1.3 MB 10.5 MB/s eta 0:00:01\r\u001b[K     |██████████████████████████████  | 1.3 MB 10.5 MB/s eta 0:00:01\r\u001b[K     |██████████████████████████████▎ | 1.3 MB 10.5 MB/s eta 0:00:01\r\u001b[K     |██████████████████████████████▌ | 1.3 MB 10.5 MB/s eta 0:00:01\r\u001b[K     |██████████████████████████████▊ | 1.3 MB 10.5 MB/s eta 0:00:01\r\u001b[K     |███████████████████████████████ | 1.3 MB 10.5 MB/s eta 0:00:01\r\u001b[K     |███████████████████████████████▎| 1.4 MB 10.5 MB/s eta 0:00:01\r\u001b[K     |███████████████████████████████▌| 1.4 MB 10.5 MB/s eta 0:00:01\r\u001b[K     |███████████████████████████████▊| 1.4 MB 10.5 MB/s eta 0:00:01\r\u001b[K     |████████████████████████████████| 1.4 MB 10.5 MB/s eta 0:00:01\r\u001b[K     |████████████████████████████████| 1.4 MB 10.5 MB/s \n",
            "\u001b[?25hRequirement already satisfied: urllib3 in /usr/local/lib/python3.7/dist-packages (from pmdarima) (1.24.3)\n",
            "Requirement already satisfied: Cython!=0.29.18,>=0.29 in /usr/local/lib/python3.7/dist-packages (from pmdarima) (0.29.28)\n",
            "Collecting statsmodels!=0.12.0,>=0.11\n",
            "  Downloading statsmodels-0.13.2-cp37-cp37m-manylinux_2_17_x86_64.manylinux2014_x86_64.whl (9.8 MB)\n",
            "\u001b[K     |████████████████████████████████| 9.8 MB 37.5 MB/s \n",
            "\u001b[?25hRequirement already satisfied: pandas>=0.19 in /usr/local/lib/python3.7/dist-packages (from pmdarima) (1.3.5)\n",
            "Requirement already satisfied: scipy>=1.3.2 in /usr/local/lib/python3.7/dist-packages (from pmdarima) (1.4.1)\n",
            "Requirement already satisfied: setuptools!=50.0.0,>=38.6.0 in /usr/local/lib/python3.7/dist-packages (from pmdarima) (57.4.0)\n",
            "Requirement already satisfied: scikit-learn>=0.22 in /usr/local/lib/python3.7/dist-packages (from pmdarima) (1.0.2)\n",
            "Requirement already satisfied: numpy>=1.19.3 in /usr/local/lib/python3.7/dist-packages (from pmdarima) (1.21.6)\n",
            "Requirement already satisfied: joblib>=0.11 in /usr/local/lib/python3.7/dist-packages (from pmdarima) (1.1.0)\n",
            "Requirement already satisfied: pytz>=2017.3 in /usr/local/lib/python3.7/dist-packages (from pandas>=0.19->pmdarima) (2022.1)\n",
            "Requirement already satisfied: python-dateutil>=2.7.3 in /usr/local/lib/python3.7/dist-packages (from pandas>=0.19->pmdarima) (2.8.2)\n",
            "Requirement already satisfied: six>=1.5 in /usr/local/lib/python3.7/dist-packages (from python-dateutil>=2.7.3->pandas>=0.19->pmdarima) (1.15.0)\n",
            "Requirement already satisfied: threadpoolctl>=2.0.0 in /usr/local/lib/python3.7/dist-packages (from scikit-learn>=0.22->pmdarima) (3.1.0)\n",
            "Requirement already satisfied: patsy>=0.5.2 in /usr/local/lib/python3.7/dist-packages (from statsmodels!=0.12.0,>=0.11->pmdarima) (0.5.2)\n",
            "Requirement already satisfied: packaging>=21.3 in /usr/local/lib/python3.7/dist-packages (from statsmodels!=0.12.0,>=0.11->pmdarima) (21.3)\n",
            "Requirement already satisfied: pyparsing!=3.0.5,>=2.0.2 in /usr/local/lib/python3.7/dist-packages (from packaging>=21.3->statsmodels!=0.12.0,>=0.11->pmdarima) (3.0.8)\n",
            "Installing collected packages: statsmodels, pmdarima\n",
            "  Attempting uninstall: statsmodels\n",
            "    Found existing installation: statsmodels 0.10.2\n",
            "    Uninstalling statsmodels-0.10.2:\n",
            "      Successfully uninstalled statsmodels-0.10.2\n",
            "Successfully installed pmdarima-1.8.5 statsmodels-0.13.2\n"
          ]
        }
      ],
      "source": [
        "pip install pmdarima\n"
      ]
    },
    {
      "cell_type": "code",
      "source": [
        ""
      ],
      "metadata": {
        "id": "cMwIeH9b9xPM"
      },
      "execution_count": 1,
      "outputs": []
    },
    {
      "cell_type": "code",
      "execution_count": 2,
      "metadata": {
        "id": "iw7ABZN1D0cL"
      },
      "outputs": [],
      "source": [
        "# check pmdarima\n",
        "\n",
        "from pmdarima.arima import auto_arima"
      ]
    },
    {
      "cell_type": "markdown",
      "metadata": {
        "id": "9G2mON86D0cM"
      },
      "source": [
        "### ARIMA\n"
      ]
    },
    {
      "cell_type": "code",
      "execution_count": 3,
      "metadata": {
        "id": "1dHAXMSqD0cP"
      },
      "outputs": [],
      "source": [
        "from IPython.core.debugger import set_trace\n",
        "\n",
        "\n",
        "import pandas as pd\n",
        "import numpy as np\n",
        "import os\n",
        "import matplotlib.pyplot as plt\n",
        "import time\n",
        "\n",
        "plt.style.use(style=\"seaborn\")\n",
        "%matplotlib inline"
      ]
    },
    {
      "cell_type": "code",
      "execution_count": 4,
      "metadata": {
        "id": "kyhtvFSjD0cQ",
        "colab": {
          "base_uri": "https://localhost:8080/"
        },
        "outputId": "23fbe214-486d-46a6-9472-074e9c28c1f2"
      },
      "outputs": [
        {
          "output_type": "execute_result",
          "data": {
            "text/plain": [
              "(1229, 2)"
            ]
          },
          "metadata": {},
          "execution_count": 4
        }
      ],
      "source": [
        "df = pd.read_excel(\"/ASIANPAINT (1).xlsx\")\n",
        "df.shape"
      ]
    },
    {
      "cell_type": "markdown",
      "metadata": {
        "id": "YpSUZMmaD0ca"
      },
      "source": [
        "#### Fitting the ARIMA model"
      ]
    },
    {
      "cell_type": "code",
      "source": [
        "from statsmodels.tsa.arima_model import ARIMA\n",
        "import statsmodels.api as sm\n",
        "\n"
      ],
      "metadata": {
        "id": "v4A-npDQOzq_"
      },
      "execution_count": 5,
      "outputs": []
    },
    {
      "cell_type": "code",
      "execution_count": 6,
      "metadata": {
        "colab": {
          "base_uri": "https://localhost:8080/"
        },
        "id": "KuCMC_WND0cb",
        "outputId": "ab85d1bf-9865-41bd-e294-d4d1149ed20d"
      },
      "outputs": [
        {
          "output_type": "execute_result",
          "data": {
            "text/plain": [
              "ar.L1       0.297128\n",
              "ma.L1      -0.311499\n",
              "sigma2    278.266065\n",
              "dtype: float64"
            ]
          },
          "metadata": {},
          "execution_count": 6
        }
      ],
      "source": [
        "# ARIMA Model\n",
        "model = sm.tsa.arima.ARIMA(df.Adj_Close, order=(1, 1, 1))\n",
        "result = model.fit()\n",
        "result.params"
      ]
    },
    {
      "cell_type": "code",
      "execution_count": 7,
      "metadata": {
        "id": "7N9G_xkDD0cb",
        "colab": {
          "base_uri": "https://localhost:8080/"
        },
        "outputId": "37eb067a-b8fb-4678-9ab0-71b95ceafdf7"
      },
      "outputs": [
        {
          "output_type": "stream",
          "name": "stdout",
          "text": [
            "                               SARIMAX Results                                \n",
            "==============================================================================\n",
            "Dep. Variable:              Adj_Close   No. Observations:                 1229\n",
            "Model:                 ARIMA(1, 1, 1)   Log Likelihood               -5198.407\n",
            "Date:                Sun, 24 Apr 2022   AIC                          10402.814\n",
            "Time:                        09:48:17   BIC                          10418.153\n",
            "Sample:                             0   HQIC                         10408.585\n",
            "                               - 1229                                         \n",
            "Covariance Type:                  opg                                         \n",
            "==============================================================================\n",
            "                 coef    std err          z      P>|z|      [0.025      0.975]\n",
            "------------------------------------------------------------------------------\n",
            "ar.L1          0.2971      1.663      0.179      0.858      -2.963       3.557\n",
            "ma.L1         -0.3115      1.656     -0.188      0.851      -3.558       2.935\n",
            "sigma2       278.2661      6.856     40.590      0.000     264.830     291.703\n",
            "===================================================================================\n",
            "Ljung-Box (L1) (Q):                   0.00   Jarque-Bera (JB):              1696.67\n",
            "Prob(Q):                              0.95   Prob(JB):                         0.00\n",
            "Heteroskedasticity (H):               2.22   Skew:                             0.72\n",
            "Prob(H) (two-sided):                  0.00   Kurtosis:                         8.57\n",
            "===================================================================================\n",
            "\n",
            "Warnings:\n",
            "[1] Covariance matrix calculated using the outer product of gradients (complex-step).\n"
          ]
        }
      ],
      "source": [
        "print(result.summary())"
      ]
    },
    {
      "cell_type": "code",
      "execution_count": 8,
      "metadata": {
        "scrolled": false,
        "id": "S5K5CiKLD0cb",
        "colab": {
          "base_uri": "https://localhost:8080/",
          "height": 223
        },
        "outputId": "654437f1-0c0b-475a-c94a-2c263aea15be"
      },
      "outputs": [
        {
          "output_type": "stream",
          "name": "stdout",
          "text": [
            "(1229, 2)\n"
          ]
        },
        {
          "output_type": "execute_result",
          "data": {
            "text/plain": [
              "        Date   Adj_Close\n",
              "0 2015-01-01  714.732971\n",
              "1 2015-01-02  739.443176\n",
              "2 2015-01-05  739.395447\n",
              "3 2015-01-06  721.745300\n",
              "4 2015-01-07  736.247131"
            ],
            "text/html": [
              "\n",
              "  <div id=\"df-47a9caf1-3d39-4b4b-8c85-2d2201293960\">\n",
              "    <div class=\"colab-df-container\">\n",
              "      <div>\n",
              "<style scoped>\n",
              "    .dataframe tbody tr th:only-of-type {\n",
              "        vertical-align: middle;\n",
              "    }\n",
              "\n",
              "    .dataframe tbody tr th {\n",
              "        vertical-align: top;\n",
              "    }\n",
              "\n",
              "    .dataframe thead th {\n",
              "        text-align: right;\n",
              "    }\n",
              "</style>\n",
              "<table border=\"1\" class=\"dataframe\">\n",
              "  <thead>\n",
              "    <tr style=\"text-align: right;\">\n",
              "      <th></th>\n",
              "      <th>Date</th>\n",
              "      <th>Adj_Close</th>\n",
              "    </tr>\n",
              "  </thead>\n",
              "  <tbody>\n",
              "    <tr>\n",
              "      <th>0</th>\n",
              "      <td>2015-01-01</td>\n",
              "      <td>714.732971</td>\n",
              "    </tr>\n",
              "    <tr>\n",
              "      <th>1</th>\n",
              "      <td>2015-01-02</td>\n",
              "      <td>739.443176</td>\n",
              "    </tr>\n",
              "    <tr>\n",
              "      <th>2</th>\n",
              "      <td>2015-01-05</td>\n",
              "      <td>739.395447</td>\n",
              "    </tr>\n",
              "    <tr>\n",
              "      <th>3</th>\n",
              "      <td>2015-01-06</td>\n",
              "      <td>721.745300</td>\n",
              "    </tr>\n",
              "    <tr>\n",
              "      <th>4</th>\n",
              "      <td>2015-01-07</td>\n",
              "      <td>736.247131</td>\n",
              "    </tr>\n",
              "  </tbody>\n",
              "</table>\n",
              "</div>\n",
              "      <button class=\"colab-df-convert\" onclick=\"convertToInteractive('df-47a9caf1-3d39-4b4b-8c85-2d2201293960')\"\n",
              "              title=\"Convert this dataframe to an interactive table.\"\n",
              "              style=\"display:none;\">\n",
              "        \n",
              "  <svg xmlns=\"http://www.w3.org/2000/svg\" height=\"24px\"viewBox=\"0 0 24 24\"\n",
              "       width=\"24px\">\n",
              "    <path d=\"M0 0h24v24H0V0z\" fill=\"none\"/>\n",
              "    <path d=\"M18.56 5.44l.94 2.06.94-2.06 2.06-.94-2.06-.94-.94-2.06-.94 2.06-2.06.94zm-11 1L8.5 8.5l.94-2.06 2.06-.94-2.06-.94L8.5 2.5l-.94 2.06-2.06.94zm10 10l.94 2.06.94-2.06 2.06-.94-2.06-.94-.94-2.06-.94 2.06-2.06.94z\"/><path d=\"M17.41 7.96l-1.37-1.37c-.4-.4-.92-.59-1.43-.59-.52 0-1.04.2-1.43.59L10.3 9.45l-7.72 7.72c-.78.78-.78 2.05 0 2.83L4 21.41c.39.39.9.59 1.41.59.51 0 1.02-.2 1.41-.59l7.78-7.78 2.81-2.81c.8-.78.8-2.07 0-2.86zM5.41 20L4 18.59l7.72-7.72 1.47 1.35L5.41 20z\"/>\n",
              "  </svg>\n",
              "      </button>\n",
              "      \n",
              "  <style>\n",
              "    .colab-df-container {\n",
              "      display:flex;\n",
              "      flex-wrap:wrap;\n",
              "      gap: 12px;\n",
              "    }\n",
              "\n",
              "    .colab-df-convert {\n",
              "      background-color: #E8F0FE;\n",
              "      border: none;\n",
              "      border-radius: 50%;\n",
              "      cursor: pointer;\n",
              "      display: none;\n",
              "      fill: #1967D2;\n",
              "      height: 32px;\n",
              "      padding: 0 0 0 0;\n",
              "      width: 32px;\n",
              "    }\n",
              "\n",
              "    .colab-df-convert:hover {\n",
              "      background-color: #E2EBFA;\n",
              "      box-shadow: 0px 1px 2px rgba(60, 64, 67, 0.3), 0px 1px 3px 1px rgba(60, 64, 67, 0.15);\n",
              "      fill: #174EA6;\n",
              "    }\n",
              "\n",
              "    [theme=dark] .colab-df-convert {\n",
              "      background-color: #3B4455;\n",
              "      fill: #D2E3FC;\n",
              "    }\n",
              "\n",
              "    [theme=dark] .colab-df-convert:hover {\n",
              "      background-color: #434B5C;\n",
              "      box-shadow: 0px 1px 3px 1px rgba(0, 0, 0, 0.15);\n",
              "      filter: drop-shadow(0px 1px 2px rgba(0, 0, 0, 0.3));\n",
              "      fill: #FFFFFF;\n",
              "    }\n",
              "  </style>\n",
              "\n",
              "      <script>\n",
              "        const buttonEl =\n",
              "          document.querySelector('#df-47a9caf1-3d39-4b4b-8c85-2d2201293960 button.colab-df-convert');\n",
              "        buttonEl.style.display =\n",
              "          google.colab.kernel.accessAllowed ? 'block' : 'none';\n",
              "\n",
              "        async function convertToInteractive(key) {\n",
              "          const element = document.querySelector('#df-47a9caf1-3d39-4b4b-8c85-2d2201293960');\n",
              "          const dataTable =\n",
              "            await google.colab.kernel.invokeFunction('convertToInteractive',\n",
              "                                                     [key], {});\n",
              "          if (!dataTable) return;\n",
              "\n",
              "          const docLinkHtml = 'Like what you see? Visit the ' +\n",
              "            '<a target=\"_blank\" href=https://colab.research.google.com/notebooks/data_table.ipynb>data table notebook</a>'\n",
              "            + ' to learn more about interactive tables.';\n",
              "          element.innerHTML = '';\n",
              "          dataTable['output_type'] = 'display_data';\n",
              "          await google.colab.output.renderOutput(dataTable, element);\n",
              "          const docLink = document.createElement('div');\n",
              "          docLink.innerHTML = docLinkHtml;\n",
              "          element.appendChild(docLink);\n",
              "        }\n",
              "      </script>\n",
              "    </div>\n",
              "  </div>\n",
              "  "
            ]
          },
          "metadata": {},
          "execution_count": 8
        }
      ],
      "source": [
        "x=result.predict(type='levels')\n",
        "\n",
        "print(df.shape)\n",
        "df.head()"
      ]
    },
    {
      "cell_type": "code",
      "execution_count": 9,
      "metadata": {
        "colab": {
          "base_uri": "https://localhost:8080/",
          "height": 495
        },
        "id": "1gIqEdGCD0cb",
        "outputId": "8ba7a5d0-1d2c-45fa-e2fd-f893202ba9cc"
      },
      "outputs": [
        {
          "output_type": "execute_result",
          "data": {
            "text/plain": [
              "Text(0.5, 1.0, 'ARIMA-Asian_Paints')"
            ]
          },
          "metadata": {},
          "execution_count": 9
        },
        {
          "output_type": "display_data",
          "data": {
            "text/plain": [
              "<Figure size 1152x576 with 1 Axes>"
            ],
            "image/png": "[encoded data removed]"
          },
          "metadata": {
            "needs_background": "light"
          }
        }
      ],
      "source": [
        "df['forecast']=result.predict(start=924,type='levels')\n",
        "df.set_index('Date',inplace=True)\n",
        "df[['Adj_Close','forecast']].plot(figsize=(16, 8))\n",
        "plt.title('ARIMA-Asian_Paints')\n",
        "\n"
      ]
    },
    {
      "cell_type": "code",
      "source": [
        ""
      ],
      "metadata": {
        "id": "_XKr-Y4-mvmi"
      },
      "execution_count": 9,
      "outputs": []
    },
    {
      "cell_type": "markdown",
      "metadata": {
        "id": "rv94aLa2D0cc"
      },
      "source": [
        "### RMSE Value Calculation\n"
      ]
    },
    {
      "cell_type": "code",
      "execution_count": 10,
      "metadata": {
        "colab": {
          "base_uri": "https://localhost:8080/"
        },
        "id": "wmDCBB_ZD0cc",
        "outputId": "cfcf1c79-6628-4a2b-d1be-ae876566270e"
      },
      "outputs": [
        {
          "output_type": "stream",
          "name": "stdout",
          "text": [
            "RMSE= 22.087966661731272\n"
          ]
        }
      ],
      "source": [
        "from sklearn.metrics import mean_squared_error\n",
        "from math import sqrt\n",
        "rms=sqrt(mean_squared_error(df['Adj_Close'][924:len(df)],df['forecast'][924:len(df)]))\n",
        "print(\"RMSE=\",rms)"
      ]
    }
  ],
  "metadata": {
    "kernelspec": {
      "display_name": "Python 3",
      "language": "python",
      "name": "python3"
    },
    "language_info": {
      "codemirror_mode": {
        "name": "ipython",
        "version": 3
      },
      "file_extension": ".py",
      "mimetype": "text/x-python",
      "name": "python",
      "nbconvert_exporter": "python",
      "pygments_lexer": "ipython3",
      "version": "3.7.3"
    },
    "colab": {
      "name": "ARIMA_Asian_Paints.ipynb",
      "provenance": [],
      "collapsed_sections": []
    }
  },
  "nbformat": 4,
  "nbformat_minor": 0
}