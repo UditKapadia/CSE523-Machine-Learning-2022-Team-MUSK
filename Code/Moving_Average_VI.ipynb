{
  "nbformat": 4,
  "nbformat_minor": 0,
  "metadata": {
    "colab": {
      "name": "Moving Average_VI",
      "provenance": [],
      "collapsed_sections": []
    },
    "kernelspec": {
      "name": "python3",
      "display_name": "Python 3"
    },
    "language_info": {
      "name": "python"
    }
  },
  "cells": [
    {
      "cell_type": "code",
      "execution_count": 79,
      "metadata": {
        "colab": {
          "base_uri": "https://localhost:8080/"
        },
        "id": "CW_7ROzvZ2jN",
        "outputId": "b77b2ba0-130e-46e0-d646-3845b5b01466"
      },
      "outputs": [
        {
          "output_type": "stream",
          "name": "stdout",
          "text": [
            "           Date  Adj_Close\n",
            "0    2015-01-01  95.008942\n",
            "1    2015-01-02  95.336876\n",
            "2    2015-01-05  91.550819\n",
            "3    2015-01-06  89.732323\n",
            "4    2015-01-07  89.285149\n",
            "...         ...        ...\n",
            "1223 2019-12-23   6.400000\n",
            "1224 2019-12-24   6.300000\n",
            "1225 2019-12-26   6.050000\n",
            "1226 2019-12-27   5.800000\n",
            "1227 2019-12-30   6.150000\n",
            "\n",
            "[1228 rows x 2 columns]\n"
          ]
        }
      ],
      "source": [
        "import pandas as pd\n",
        "import numpy as np\n",
        "import matplotlib.pyplot as plt\n",
        "%matplotlib inline\n",
        "from sklearn.metrics import mean_squared_error\n",
        "from math import sqrt\n",
        "\n",
        "\n",
        "df = pd.read_excel ('/content/VI_IDEA.xlsx')\n",
        "print (df)"
      ]
    },
    {
      "cell_type": "markdown",
      "source": [
        "Split Train and Test Dataset"
      ],
      "metadata": {
        "id": "QuM2WqBZp-ZF"
      }
    },
    {
      "cell_type": "code",
      "source": [
        "X_train = df[:int(df.shape[0]*0.75)]\n",
        "X_test = df[int(df.shape[0]*0.75):]\n",
        "\n",
        "print(X_test)"
      ],
      "metadata": {
        "colab": {
          "base_uri": "https://localhost:8080/"
        },
        "id": "d5OeHiSgonys",
        "outputId": "c31e51a4-127e-4b87-a173-5a0923ef6f2c"
      },
      "execution_count": 80,
      "outputs": [
        {
          "output_type": "stream",
          "name": "stdout",
          "text": [
            "           Date  Adj_Close\n",
            "921  2018-09-25  24.420244\n",
            "922  2018-09-26  24.993065\n",
            "923  2018-09-27  23.214308\n",
            "924  2018-09-28  23.244455\n",
            "925  2018-10-01  23.365049\n",
            "...         ...        ...\n",
            "1223 2019-12-23   6.400000\n",
            "1224 2019-12-24   6.300000\n",
            "1225 2019-12-26   6.050000\n",
            "1226 2019-12-27   5.800000\n",
            "1227 2019-12-30   6.150000\n",
            "\n",
            "[307 rows x 2 columns]\n"
          ]
        }
      ]
    },
    {
      "cell_type": "markdown",
      "source": [
        "Simple Moving Average for k=2"
      ],
      "metadata": {
        "id": "QEi4Ueq4qF0G"
      }
    },
    {
      "cell_type": "code",
      "source": [
        "for i in range(0,df.shape[0]-1):\n",
        "    df.loc[df.index[i+1],'SMA_2'] = np.round(((df.iloc[i,1]+ df.iloc[i+1,1]) /2),1)\n",
        "    \n",
        "df.head()"
      ],
      "metadata": {
        "colab": {
          "base_uri": "https://localhost:8080/",
          "height": 206
        },
        "id": "aUtZJiN9oq5s",
        "outputId": "32c4faaa-8205-4f27-e232-4ed1e2a007f7"
      },
      "execution_count": 81,
      "outputs": [
        {
          "output_type": "execute_result",
          "data": {
            "text/plain": [
              "        Date  Adj_Close  SMA_2\n",
              "0 2015-01-01  95.008942    NaN\n",
              "1 2015-01-02  95.336876   95.2\n",
              "2 2015-01-05  91.550819   93.4\n",
              "3 2015-01-06  89.732323   90.6\n",
              "4 2015-01-07  89.285149   89.5"
            ],
            "text/html": [
              "\n",
              "  <div id=\"df-5ec46cb7-953d-482b-8854-91004ac5609d\">\n",
              "    <div class=\"colab-df-container\">\n",
              "      <div>\n",
              "<style scoped>\n",
              "    .dataframe tbody tr th:only-of-type {\n",
              "        vertical-align: middle;\n",
              "    }\n",
              "\n",
              "    .dataframe tbody tr th {\n",
              "        vertical-align: top;\n",
              "    }\n",
              "\n",
              "    .dataframe thead th {\n",
              "        text-align: right;\n",
              "    }\n",
              "</style>\n",
              "<table border=\"1\" class=\"dataframe\">\n",
              "  <thead>\n",
              "    <tr style=\"text-align: right;\">\n",
              "      <th></th>\n",
              "      <th>Date</th>\n",
              "      <th>Adj_Close</th>\n",
              "      <th>SMA_2</th>\n",
              "    </tr>\n",
              "  </thead>\n",
              "  <tbody>\n",
              "    <tr>\n",
              "      <th>0</th>\n",
              "      <td>2015-01-01</td>\n",
              "      <td>95.008942</td>\n",
              "      <td>NaN</td>\n",
              "    </tr>\n",
              "    <tr>\n",
              "      <th>1</th>\n",
              "      <td>2015-01-02</td>\n",
              "      <td>95.336876</td>\n",
              "      <td>95.2</td>\n",
              "    </tr>\n",
              "    <tr>\n",
              "      <th>2</th>\n",
              "      <td>2015-01-05</td>\n",
              "      <td>91.550819</td>\n",
              "      <td>93.4</td>\n",
              "    </tr>\n",
              "    <tr>\n",
              "      <th>3</th>\n",
              "      <td>2015-01-06</td>\n",
              "      <td>89.732323</td>\n",
              "      <td>90.6</td>\n",
              "    </tr>\n",
              "    <tr>\n",
              "      <th>4</th>\n",
              "      <td>2015-01-07</td>\n",
              "      <td>89.285149</td>\n",
              "      <td>89.5</td>\n",
              "    </tr>\n",
              "  </tbody>\n",
              "</table>\n",
              "</div>\n",
              "      <button class=\"colab-df-convert\" onclick=\"convertToInteractive('df-5ec46cb7-953d-482b-8854-91004ac5609d')\"\n",
              "              title=\"Convert this dataframe to an interactive table.\"\n",
              "              style=\"display:none;\">\n",
              "        \n",
              "  <svg xmlns=\"http://www.w3.org/2000/svg\" height=\"24px\"viewBox=\"0 0 24 24\"\n",
              "       width=\"24px\">\n",
              "    <path d=\"M0 0h24v24H0V0z\" fill=\"none\"/>\n",
              "    <path d=\"M18.56 5.44l.94 2.06.94-2.06 2.06-.94-2.06-.94-.94-2.06-.94 2.06-2.06.94zm-11 1L8.5 8.5l.94-2.06 2.06-.94-2.06-.94L8.5 2.5l-.94 2.06-2.06.94zm10 10l.94 2.06.94-2.06 2.06-.94-2.06-.94-.94-2.06-.94 2.06-2.06.94z\"/><path d=\"M17.41 7.96l-1.37-1.37c-.4-.4-.92-.59-1.43-.59-.52 0-1.04.2-1.43.59L10.3 9.45l-7.72 7.72c-.78.78-.78 2.05 0 2.83L4 21.41c.39.39.9.59 1.41.59.51 0 1.02-.2 1.41-.59l7.78-7.78 2.81-2.81c.8-.78.8-2.07 0-2.86zM5.41 20L4 18.59l7.72-7.72 1.47 1.35L5.41 20z\"/>\n",
              "  </svg>\n",
              "      </button>\n",
              "      \n",
              "  <style>\n",
              "    .colab-df-container {\n",
              "      display:flex;\n",
              "      flex-wrap:wrap;\n",
              "      gap: 12px;\n",
              "    }\n",
              "\n",
              "    .colab-df-convert {\n",
              "      background-color: #E8F0FE;\n",
              "      border: none;\n",
              "      border-radius: 50%;\n",
              "      cursor: pointer;\n",
              "      display: none;\n",
              "      fill: #1967D2;\n",
              "      height: 32px;\n",
              "      padding: 0 0 0 0;\n",
              "      width: 32px;\n",
              "    }\n",
              "\n",
              "    .colab-df-convert:hover {\n",
              "      background-color: #E2EBFA;\n",
              "      box-shadow: 0px 1px 2px rgba(60, 64, 67, 0.3), 0px 1px 3px 1px rgba(60, 64, 67, 0.15);\n",
              "      fill: #174EA6;\n",
              "    }\n",
              "\n",
              "    [theme=dark] .colab-df-convert {\n",
              "      background-color: #3B4455;\n",
              "      fill: #D2E3FC;\n",
              "    }\n",
              "\n",
              "    [theme=dark] .colab-df-convert:hover {\n",
              "      background-color: #434B5C;\n",
              "      box-shadow: 0px 1px 3px 1px rgba(0, 0, 0, 0.15);\n",
              "      filter: drop-shadow(0px 1px 2px rgba(0, 0, 0, 0.3));\n",
              "      fill: #FFFFFF;\n",
              "    }\n",
              "  </style>\n",
              "\n",
              "      <script>\n",
              "        const buttonEl =\n",
              "          document.querySelector('#df-5ec46cb7-953d-482b-8854-91004ac5609d button.colab-df-convert');\n",
              "        buttonEl.style.display =\n",
              "          google.colab.kernel.accessAllowed ? 'block' : 'none';\n",
              "\n",
              "        async function convertToInteractive(key) {\n",
              "          const element = document.querySelector('#df-5ec46cb7-953d-482b-8854-91004ac5609d');\n",
              "          const dataTable =\n",
              "            await google.colab.kernel.invokeFunction('convertToInteractive',\n",
              "                                                     [key], {});\n",
              "          if (!dataTable) return;\n",
              "\n",
              "          const docLinkHtml = 'Like what you see? Visit the ' +\n",
              "            '<a target=\"_blank\" href=https://colab.research.google.com/notebooks/data_table.ipynb>data table notebook</a>'\n",
              "            + ' to learn more about interactive tables.';\n",
              "          element.innerHTML = '';\n",
              "          dataTable['output_type'] = 'display_data';\n",
              "          await google.colab.output.renderOutput(dataTable, element);\n",
              "          const docLink = document.createElement('div');\n",
              "          docLink.innerHTML = docLinkHtml;\n",
              "          element.appendChild(docLink);\n",
              "        }\n",
              "      </script>\n",
              "    </div>\n",
              "  </div>\n",
              "  "
            ]
          },
          "metadata": {},
          "execution_count": 81
        }
      ]
    },
    {
      "cell_type": "markdown",
      "source": [
        "Root Mean Square Error"
      ],
      "metadata": {
        "id": "OEYSPiE5qLVj"
      }
    },
    {
      "cell_type": "code",
      "source": [
        "df.head()\n",
        "rms = mean_squared_error(df['Adj_Close'][924:len(df)], df['SMA_2'][924:len(df)])\n",
        "rms = sqrt(mean_squared_error(df['Adj_Close'][924:len(df)], df['SMA_2'][924:len(df)]))\n",
        "print(\"Root Mean Square Error = \" ,rms)"
      ],
      "metadata": {
        "colab": {
          "base_uri": "https://localhost:8080/"
        },
        "id": "i7kO9MMXox97",
        "outputId": "1412c61f-8a80-4568-fe93-5b4713d63e7b"
      },
      "execution_count": 82,
      "outputs": [
        {
          "output_type": "stream",
          "name": "stdout",
          "text": [
            "Root Mean Square Error =  0.3048990916227719\n"
          ]
        }
      ]
    },
    {
      "cell_type": "markdown",
      "source": [
        "Plot the Graph"
      ],
      "metadata": {
        "id": "aAKstP44qQcR"
      }
    },
    {
      "cell_type": "code",
      "source": [
        "plt.figure(figsize=[16,8])\n",
        "plt.grid(True)\n",
        "plt.title('Moving Average Model - VI')\n",
        "df.set_index('Date',inplace=True)\n",
        "plt.plot(df['Adj_Close'],label='Closing Price')\n",
        "plt.plot(df['SMA_2'][988:len(df)],label='SMA k=2')\n",
        "plt.legend(loc=2)\n"
      ],
      "metadata": {
        "colab": {
          "base_uri": "https://localhost:8080/",
          "height": 516
        },
        "id": "5wYssrtMpukY",
        "outputId": "68d25f1f-903b-47a9-a644-1debc9fe565e"
      },
      "execution_count": 83,
      "outputs": [
        {
          "output_type": "execute_result",
          "data": {
            "text/plain": [
              "<matplotlib.legend.Legend at 0x7f0e3302df90>"
            ]
          },
          "metadata": {},
          "execution_count": 83
        },
        {
          "output_type": "display_data",
          "data": {
            "text/plain": [
              "<Figure size 1152x576 with 1 Axes>"
            ],
            "image/png": "[encoded data removed]"
          },
          "metadata": {
            "needs_background": "light"
          }
        }
      ]
    }
  ]
}