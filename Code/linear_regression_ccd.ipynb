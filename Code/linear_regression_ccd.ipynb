{
 "cells": [
  {
   "cell_type": "code",
   "execution_count": 52,
   "metadata": {},
   "outputs": [],
   "source": [
    "import pandas as pd\n",
    "import pandas_ta\n",
    "import matplotlib.pyplot as plt\n",
    "from sklearn.model_selection import train_test_split\n",
    "from sklearn.linear_model import LinearRegression\n",
    "from sklearn.metrics import mean_squared_error, r2_score, mean_absolute_error\n"
   ]
  },
  {
   "cell_type": "code",
   "execution_count": 29,
   "metadata": {},
   "outputs": [],
   "source": [
    "df= pd.read_csv('CCD_Data.csv')"
   ]
  },
  {
   "cell_type": "code",
   "execution_count": 30,
   "metadata": {},
   "outputs": [
    {
     "name": "stdout",
     "output_type": "stream",
     "text": [
      "            Date       Close\n",
      "0     01-01-2016  288.049988\n",
      "1     04-01-2016  280.450012\n",
      "2     05-01-2016  282.450012\n",
      "3     06-01-2016  274.299988\n",
      "4     07-01-2016  269.850006\n",
      "...          ...         ...\n",
      "1229  24-12-2020   26.350000\n",
      "1230  28-12-2020   26.350000\n",
      "1231  29-12-2020   26.350000\n",
      "1232  30-12-2020   26.350000\n",
      "1233  31-12-2020   26.350000\n",
      "\n",
      "[1234 rows x 2 columns]\n"
     ]
    }
   ],
   "source": [
    "print(df)"
   ]
  },
  {
   "cell_type": "code",
   "execution_count": 31,
   "metadata": {},
   "outputs": [
    {
     "name": "stdout",
     "output_type": "stream",
     "text": [
      "             Close\n",
      "count  1234.000000\n",
      "mean    191.692140\n",
      "std     104.604097\n",
      "min       0.000000\n",
      "25%      50.362499\n",
      "50%     236.224998\n",
      "75%     264.100006\n",
      "max     359.549988\n"
     ]
    }
   ],
   "source": [
    "print(df.describe())"
   ]
  },
  {
   "cell_type": "code",
   "execution_count": 32,
   "metadata": {},
   "outputs": [
    {
     "name": "stdout",
     "output_type": "stream",
     "text": [
      "                 Close\n",
      "Date                  \n",
      "2016-01-01  288.049988\n",
      "2016-04-01  280.450012\n",
      "2016-05-01  282.450012\n",
      "2016-06-01  274.299988\n",
      "2016-07-01  269.850006\n",
      "...                ...\n",
      "2020-12-24   26.350000\n",
      "2020-12-28   26.350000\n",
      "2020-12-29   26.350000\n",
      "2020-12-30   26.350000\n",
      "2020-12-31   26.350000\n",
      "\n",
      "[1234 rows x 1 columns]\n"
     ]
    }
   ],
   "source": [
    "# Reindex data using a DatetimeIndex\n",
    "df.set_index(pd.DatetimeIndex(df['Date']), inplace=True)\n",
    "df = df[['Close']]\n",
    "print(df)"
   ]
  },
  {
   "cell_type": "code",
   "execution_count": 33,
   "metadata": {},
   "outputs": [
    {
     "name": "stdout",
     "output_type": "stream",
     "text": [
      "<class 'pandas.core.frame.DataFrame'>\n",
      "DatetimeIndex: 1234 entries, 2016-01-01 to 2020-12-31\n",
      "Data columns (total 1 columns):\n",
      " #   Column  Non-Null Count  Dtype  \n",
      "---  ------  --------------  -----  \n",
      " 0   Close   1234 non-null   float64\n",
      "dtypes: float64(1)\n",
      "memory usage: 19.3 KB\n",
      "None\n"
     ]
    }
   ],
   "source": [
    "print(df.info())"
   ]
  },
  {
   "cell_type": "code",
   "execution_count": 34,
   "metadata": {},
   "outputs": [
    {
     "data": {
      "text/plain": [
       "Date\n",
       "2016-01-01          NaN\n",
       "2016-04-01          NaN\n",
       "2016-05-01          NaN\n",
       "2016-06-01          NaN\n",
       "2016-07-01          NaN\n",
       "                ...    \n",
       "2020-12-24    26.328750\n",
       "2020-12-28    26.332613\n",
       "2020-12-29    26.335775\n",
       "2020-12-30    26.338361\n",
       "2020-12-31    26.340477\n",
       "Name: EMA_10, Length: 1234, dtype: float64"
      ]
     },
     "execution_count": 34,
     "metadata": {},
     "output_type": "execute_result"
    }
   ],
   "source": [
    "\n",
    "df.ta.ema(close='close', length=10, append=True)\n"
   ]
  },
  {
   "cell_type": "code",
   "execution_count": 35,
   "metadata": {},
   "outputs": [
    {
     "name": "stdout",
     "output_type": "stream",
     "text": [
      "                 Close     EMA_10\n",
      "Date                             \n",
      "2016-01-01  288.049988        NaN\n",
      "2016-04-01  280.450012        NaN\n",
      "2016-05-01  282.450012        NaN\n",
      "2016-06-01  274.299988        NaN\n",
      "2016-07-01  269.850006        NaN\n",
      "...                ...        ...\n",
      "2020-12-24   26.350000  26.328750\n",
      "2020-12-28   26.350000  26.332613\n",
      "2020-12-29   26.350000  26.335775\n",
      "2020-12-30   26.350000  26.338361\n",
      "2020-12-31   26.350000  26.340477\n",
      "\n",
      "[1234 rows x 2 columns]\n"
     ]
    }
   ],
   "source": [
    "print(df)"
   ]
  },
  {
   "cell_type": "code",
   "execution_count": 36,
   "metadata": {},
   "outputs": [],
   "source": [
    "df = df.iloc[10:]\n"
   ]
  },
  {
   "cell_type": "code",
   "execution_count": 43,
   "metadata": {},
   "outputs": [],
   "source": [
    "X_train, X_test, y_train, y_test = train_test_split(\n",
    "    df[['Close']], df[['EMA_10']], test_size=.2)\n"
   ]
  },
  {
   "cell_type": "code",
   "execution_count": 45,
   "metadata": {},
   "outputs": [
    {
     "name": "stdout",
     "output_type": "stream",
     "text": [
      "            Close\n",
      "count  245.000000\n",
      "mean   186.823470\n",
      "std    104.412678\n",
      "min     15.650000\n",
      "25%     44.950001\n",
      "50%    233.699997\n",
      "75%    259.899994\n",
      "max    345.200012\n",
      "            Close\n",
      "count  979.000000\n",
      "mean   192.093514\n",
      "std    104.893279\n",
      "min      0.000000\n",
      "25%     50.725001\n",
      "50%    236.699997\n",
      "75%    264.725006\n",
      "max    359.549988\n"
     ]
    }
   ],
   "source": [
    "print(X_test.describe())\n",
    "print(X_train.describe())\n"
   ]
  },
  {
   "cell_type": "code",
   "execution_count": 51,
   "metadata": {},
   "outputs": [],
   "source": [
    "\n",
    "# Create Regression Model\n",
    "model = LinearRegression()\n",
    "# Train the model\n",
    "model.fit(X_train, y_train)\n",
    "y_pred = model.predict(X_test)"
   ]
  },
  {
   "cell_type": "code",
   "execution_count": 53,
   "metadata": {},
   "outputs": [
    {
     "name": "stdout",
     "output_type": "stream",
     "text": [
      "Model Coefficients: [[0.98880712]]\n",
      "Mean Absolute Error: 4.3409245774938485\n",
      "Coefficient of Determination: 0.9961259501308131\n"
     ]
    }
   ],
   "source": [
    "# Printout relevant metrics\n",
    "print(\"Model Coefficients:\", model.coef_)\n",
    "print(\"Mean Absolute Error:\", mean_absolute_error(y_test, y_pred))\n",
    "print(\"Coefficient of Determination:\", r2_score(y_test, y_pred))\n"
   ]
  },
  {
   "cell_type": "code",
   "execution_count": 62,
   "metadata": {},
   "outputs": [
    {
     "data": {
      "text/html": [
       "<div>\n",
       "<style scoped>\n",
       "    .dataframe tbody tr th:only-of-type {\n",
       "        vertical-align: middle;\n",
       "    }\n",
       "\n",
       "    .dataframe tbody tr th {\n",
       "        vertical-align: top;\n",
       "    }\n",
       "\n",
       "    .dataframe thead th {\n",
       "        text-align: right;\n",
       "    }\n",
       "</style>\n",
       "<table border=\"1\" class=\"dataframe\">\n",
       "  <thead>\n",
       "    <tr style=\"text-align: right;\">\n",
       "      <th></th>\n",
       "      <th>EMA_10</th>\n",
       "    </tr>\n",
       "    <tr>\n",
       "      <th>Date</th>\n",
       "      <th></th>\n",
       "    </tr>\n",
       "  </thead>\n",
       "  <tbody>\n",
       "    <tr>\n",
       "      <th>2019-07-05</th>\n",
       "      <td>262.309159</td>\n",
       "    </tr>\n",
       "    <tr>\n",
       "      <th>2016-03-30</th>\n",
       "      <td>226.622544</td>\n",
       "    </tr>\n",
       "    <tr>\n",
       "      <th>2020-12-17</th>\n",
       "      <td>26.292042</td>\n",
       "    </tr>\n",
       "    <tr>\n",
       "      <th>2020-06-07</th>\n",
       "      <td>17.837331</td>\n",
       "    </tr>\n",
       "    <tr>\n",
       "      <th>2019-03-27</th>\n",
       "      <td>289.921553</td>\n",
       "    </tr>\n",
       "    <tr>\n",
       "      <th>...</th>\n",
       "      <td>...</td>\n",
       "    </tr>\n",
       "    <tr>\n",
       "      <th>2020-01-28</th>\n",
       "      <td>32.956307</td>\n",
       "    </tr>\n",
       "    <tr>\n",
       "      <th>2016-12-20</th>\n",
       "      <td>199.775387</td>\n",
       "    </tr>\n",
       "    <tr>\n",
       "      <th>2017-11-13</th>\n",
       "      <td>226.192288</td>\n",
       "    </tr>\n",
       "    <tr>\n",
       "      <th>2018-07-27</th>\n",
       "      <td>261.932902</td>\n",
       "    </tr>\n",
       "    <tr>\n",
       "      <th>2018-12-10</th>\n",
       "      <td>261.055800</td>\n",
       "    </tr>\n",
       "  </tbody>\n",
       "</table>\n",
       "<p>245 rows × 1 columns</p>\n",
       "</div>"
      ],
      "text/plain": [
       "                EMA_10\n",
       "Date                  \n",
       "2019-07-05  262.309159\n",
       "2016-03-30  226.622544\n",
       "2020-12-17   26.292042\n",
       "2020-06-07   17.837331\n",
       "2019-03-27  289.921553\n",
       "...                ...\n",
       "2020-01-28   32.956307\n",
       "2016-12-20  199.775387\n",
       "2017-11-13  226.192288\n",
       "2018-07-27  261.932902\n",
       "2018-12-10  261.055800\n",
       "\n",
       "[245 rows x 1 columns]"
      ]
     },
     "execution_count": 62,
     "metadata": {},
     "output_type": "execute_result"
    }
   ],
   "source": [
    "y_test"
   ]
  }
 ],
 "metadata": {
  "interpreter": {
   "hash": "dd7d54034a3beb889cf6ec628165ba5228a44cc7e12101a5b2dd0023d07ec2ae"
  },
  "kernelspec": {
   "display_name": "Python 3.9.5 64-bit ('ml-test': venv)",
   "language": "python",
   "name": "python3"
  },
  "language_info": {
   "codemirror_mode": {
    "name": "ipython",
    "version": 3
   },
   "file_extension": ".py",
   "mimetype": "text/x-python",
   "name": "python",
   "nbconvert_exporter": "python",
   "pygments_lexer": "ipython3",
   "version": "3.9.5"
  },
  "orig_nbformat": 4
 },
 "nbformat": 4,
 "nbformat_minor": 2
}
