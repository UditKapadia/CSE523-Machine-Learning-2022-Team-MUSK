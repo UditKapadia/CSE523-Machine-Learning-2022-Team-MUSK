{
 "cells": [
  {
   "cell_type": "code",
   "execution_count": 22,
   "metadata": {},
   "outputs": [],
   "source": [
    "import pandas as pd\n",
    "import pandas_ta\n",
    "import matplotlib.pyplot as plt\n",
    "from sklearn.model_selection import train_test_split\n",
    "from sklearn.linear_model import LinearRegression\n",
    "from sklearn.metrics import mean_squared_error, r2_score, mean_absolute_error\n",
    "import os\n"
   ]
  },
  {
   "cell_type": "code",
   "execution_count": 28,
   "metadata": {},
   "outputs": [
    {
     "ename": "SyntaxError",
     "evalue": "(unicode error) 'unicodeescape' codec can't decode bytes in position 2-3: truncated \\UXXXXXXXX escape (3295781140.py, line 3)",
     "output_type": "error",
     "traceback": [
      "\u001b[1;36m  Input \u001b[1;32mIn [28]\u001b[1;36m\u001b[0m\n\u001b[1;33m    df= pd.read_csv('C:\\Users\\uditk\\Desktop\\CSE523 Project\\CSE523-Machine-Learning-2022-Team-MUSK\\Code\\CCD_Data.csv')\u001b[0m\n\u001b[1;37m                                                                                                                    ^\u001b[0m\n\u001b[1;31mSyntaxError\u001b[0m\u001b[1;31m:\u001b[0m (unicode error) 'unicodeescape' codec can't decode bytes in position 2-3: truncated \\UXXXXXXXX escape\n"
     ]
    }
   ],
   "source": [
    "# changed the working directory using os change directory method (import os)\n",
    "# os.chdir(\"..\")\n",
    "df= pd.read_csv('C:\\Users\\uditk\\Desktop\\CSE523 Project\\CSE523-Machine-Learning-2022-Team-MUSK\\Code\\CCD_Data.csv')"
   ]
  },
  {
   "cell_type": "code",
   "execution_count": null,
   "metadata": {},
   "outputs": [
    {
     "name": "stdout",
     "output_type": "stream",
     "text": [
      "            Date       Close\n",
      "0     01-01-2016  288.049988\n",
      "1     04-01-2016  280.450012\n",
      "2     05-01-2016  282.450012\n",
      "3     06-01-2016  274.299988\n",
      "4     07-01-2016  269.850006\n",
      "...          ...         ...\n",
      "1229  24-12-2020   26.350000\n",
      "1230  28-12-2020   26.350000\n",
      "1231  29-12-2020   26.350000\n",
      "1232  30-12-2020   26.350000\n",
      "1233  31-12-2020   26.350000\n",
      "\n",
      "[1234 rows x 2 columns]\n"
     ]
    }
   ],
   "source": [
    "print(df)"
   ]
  },
  {
   "cell_type": "code",
   "execution_count": null,
   "metadata": {},
   "outputs": [],
   "source": []
  },
  {
   "cell_type": "code",
   "execution_count": null,
   "metadata": {},
   "outputs": [
    {
     "name": "stdout",
     "output_type": "stream",
     "text": [
      "             Close\n",
      "count  1234.000000\n",
      "mean    191.692140\n",
      "std     104.604097\n",
      "min       0.000000\n",
      "25%      50.362499\n",
      "50%     236.224998\n",
      "75%     264.100006\n",
      "max     359.549988\n"
     ]
    }
   ],
   "source": [
    "print(df.describe())"
   ]
  },
  {
   "cell_type": "code",
   "execution_count": null,
   "metadata": {},
   "outputs": [
    {
     "name": "stdout",
     "output_type": "stream",
     "text": [
      "                 Close\n",
      "Date                  \n",
      "2016-01-01  288.049988\n",
      "2016-04-01  280.450012\n",
      "2016-05-01  282.450012\n",
      "2016-06-01  274.299988\n",
      "2016-07-01  269.850006\n",
      "...                ...\n",
      "2020-12-24   26.350000\n",
      "2020-12-28   26.350000\n",
      "2020-12-29   26.350000\n",
      "2020-12-30   26.350000\n",
      "2020-12-31   26.350000\n",
      "\n",
      "[1234 rows x 1 columns]\n"
     ]
    }
   ],
   "source": [
    "# Reindex data using a DatetimeIndex\n",
    "df.set_index(pd.DatetimeIndex(df['Date']), inplace=True)\n",
    "df = df[['Close']]\n",
    "print(df)"
   ]
  },
  {
   "cell_type": "code",
   "execution_count": null,
   "metadata": {},
   "outputs": [
    {
     "name": "stdout",
     "output_type": "stream",
     "text": [
      "<class 'pandas.core.frame.DataFrame'>\n",
      "DatetimeIndex: 1234 entries, 2016-01-01 to 2020-12-31\n",
      "Data columns (total 1 columns):\n",
      " #   Column  Non-Null Count  Dtype  \n",
      "---  ------  --------------  -----  \n",
      " 0   Close   1234 non-null   float64\n",
      "dtypes: float64(1)\n",
      "memory usage: 19.3 KB\n",
      "None\n"
     ]
    }
   ],
   "source": [
    "print(df.info())"
   ]
  },
  {
   "cell_type": "code",
   "execution_count": null,
   "metadata": {},
   "outputs": [
    {
     "data": {
      "text/plain": [
       "Date\n",
       "2016-01-01          NaN\n",
       "2016-04-01          NaN\n",
       "2016-05-01          NaN\n",
       "2016-06-01          NaN\n",
       "2016-07-01          NaN\n",
       "                ...    \n",
       "2020-12-24    26.328750\n",
       "2020-12-28    26.332613\n",
       "2020-12-29    26.335775\n",
       "2020-12-30    26.338361\n",
       "2020-12-31    26.340477\n",
       "Name: EMA_10, Length: 1234, dtype: float64"
      ]
     },
     "execution_count": 34,
     "metadata": {},
     "output_type": "execute_result"
    }
   ],
   "source": [
    "\n",
    "df.ta.ema(close='close', length=10, append=True)\n"
   ]
  },
  {
   "cell_type": "code",
   "execution_count": null,
   "metadata": {},
   "outputs": [
    {
     "name": "stdout",
     "output_type": "stream",
     "text": [
      "                 Close     EMA_10\n",
      "Date                             \n",
      "2016-01-01  288.049988        NaN\n",
      "2016-04-01  280.450012        NaN\n",
      "2016-05-01  282.450012        NaN\n",
      "2016-06-01  274.299988        NaN\n",
      "2016-07-01  269.850006        NaN\n",
      "...                ...        ...\n",
      "2020-12-24   26.350000  26.328750\n",
      "2020-12-28   26.350000  26.332613\n",
      "2020-12-29   26.350000  26.335775\n",
      "2020-12-30   26.350000  26.338361\n",
      "2020-12-31   26.350000  26.340477\n",
      "\n",
      "[1234 rows x 2 columns]\n"
     ]
    }
   ],
   "source": [
    "print(df)"
   ]
  },
  {
   "cell_type": "code",
   "execution_count": null,
   "metadata": {},
   "outputs": [],
   "source": [
    "df = df.iloc[10:]\n"
   ]
  },
  {
   "cell_type": "code",
   "execution_count": null,
   "metadata": {},
   "outputs": [
    {
     "ename": "KeyError",
     "evalue": "\"None of [Index(['EMA_10'], dtype='object')] are in the [columns]\"",
     "output_type": "error",
     "traceback": [
      "\u001b[1;31m---------------------------------------------------------------------------\u001b[0m",
      "\u001b[1;31mKeyError\u001b[0m                                  Traceback (most recent call last)",
      "\u001b[1;32mc:\\Users\\uditk\\Desktop\\CSE523 Project\\CSE523-Machine-Learning-2022-Team-MUSK\\Code\\linear_regression_ccd.ipynb Cell 10'\u001b[0m in \u001b[0;36m<cell line: 1>\u001b[1;34m()\u001b[0m\n\u001b[0;32m      <a href='vscode-notebook-cell:/c%3A/Users/uditk/Desktop/CSE523%20Project/CSE523-Machine-Learning-2022-Team-MUSK/Code/linear_regression_ccd.ipynb#ch0000009?line=0'>1</a>\u001b[0m X_train, X_test, y_train, y_test \u001b[39m=\u001b[39m train_test_split(\n\u001b[1;32m----> <a href='vscode-notebook-cell:/c%3A/Users/uditk/Desktop/CSE523%20Project/CSE523-Machine-Learning-2022-Team-MUSK/Code/linear_regression_ccd.ipynb#ch0000009?line=1'>2</a>\u001b[0m     df[[\u001b[39m'\u001b[39m\u001b[39mClose\u001b[39m\u001b[39m'\u001b[39m]], df[[\u001b[39m'\u001b[39;49m\u001b[39mEMA_10\u001b[39;49m\u001b[39m'\u001b[39;49m]], test_size\u001b[39m=\u001b[39m\u001b[39m.2\u001b[39m)\n",
      "File \u001b[1;32mc:\\Users\\uditk\\Desktop\\Python Projects\\ml-test\\lib\\site-packages\\pandas\\core\\frame.py:3461\u001b[0m, in \u001b[0;36mDataFrame.__getitem__\u001b[1;34m(self, key)\u001b[0m\n\u001b[0;32m   <a href='file:///c%3A/Users/uditk/Desktop/Python%20Projects/ml-test/lib/site-packages/pandas/core/frame.py?line=3458'>3459</a>\u001b[0m     \u001b[39mif\u001b[39;00m is_iterator(key):\n\u001b[0;32m   <a href='file:///c%3A/Users/uditk/Desktop/Python%20Projects/ml-test/lib/site-packages/pandas/core/frame.py?line=3459'>3460</a>\u001b[0m         key \u001b[39m=\u001b[39m \u001b[39mlist\u001b[39m(key)\n\u001b[1;32m-> <a href='file:///c%3A/Users/uditk/Desktop/Python%20Projects/ml-test/lib/site-packages/pandas/core/frame.py?line=3460'>3461</a>\u001b[0m     indexer \u001b[39m=\u001b[39m \u001b[39mself\u001b[39;49m\u001b[39m.\u001b[39;49mloc\u001b[39m.\u001b[39;49m_get_listlike_indexer(key, axis\u001b[39m=\u001b[39;49m\u001b[39m1\u001b[39;49m)[\u001b[39m1\u001b[39m]\n\u001b[0;32m   <a href='file:///c%3A/Users/uditk/Desktop/Python%20Projects/ml-test/lib/site-packages/pandas/core/frame.py?line=3462'>3463</a>\u001b[0m \u001b[39m# take() does not accept boolean indexers\u001b[39;00m\n\u001b[0;32m   <a href='file:///c%3A/Users/uditk/Desktop/Python%20Projects/ml-test/lib/site-packages/pandas/core/frame.py?line=3463'>3464</a>\u001b[0m \u001b[39mif\u001b[39;00m \u001b[39mgetattr\u001b[39m(indexer, \u001b[39m\"\u001b[39m\u001b[39mdtype\u001b[39m\u001b[39m\"\u001b[39m, \u001b[39mNone\u001b[39;00m) \u001b[39m==\u001b[39m \u001b[39mbool\u001b[39m:\n",
      "File \u001b[1;32mc:\\Users\\uditk\\Desktop\\Python Projects\\ml-test\\lib\\site-packages\\pandas\\core\\indexing.py:1314\u001b[0m, in \u001b[0;36m_LocIndexer._get_listlike_indexer\u001b[1;34m(self, key, axis)\u001b[0m\n\u001b[0;32m   <a href='file:///c%3A/Users/uditk/Desktop/Python%20Projects/ml-test/lib/site-packages/pandas/core/indexing.py?line=1310'>1311</a>\u001b[0m \u001b[39melse\u001b[39;00m:\n\u001b[0;32m   <a href='file:///c%3A/Users/uditk/Desktop/Python%20Projects/ml-test/lib/site-packages/pandas/core/indexing.py?line=1311'>1312</a>\u001b[0m     keyarr, indexer, new_indexer \u001b[39m=\u001b[39m ax\u001b[39m.\u001b[39m_reindex_non_unique(keyarr)\n\u001b[1;32m-> <a href='file:///c%3A/Users/uditk/Desktop/Python%20Projects/ml-test/lib/site-packages/pandas/core/indexing.py?line=1313'>1314</a>\u001b[0m \u001b[39mself\u001b[39;49m\u001b[39m.\u001b[39;49m_validate_read_indexer(keyarr, indexer, axis)\n\u001b[0;32m   <a href='file:///c%3A/Users/uditk/Desktop/Python%20Projects/ml-test/lib/site-packages/pandas/core/indexing.py?line=1315'>1316</a>\u001b[0m \u001b[39mif\u001b[39;00m needs_i8_conversion(ax\u001b[39m.\u001b[39mdtype) \u001b[39mor\u001b[39;00m \u001b[39misinstance\u001b[39m(\n\u001b[0;32m   <a href='file:///c%3A/Users/uditk/Desktop/Python%20Projects/ml-test/lib/site-packages/pandas/core/indexing.py?line=1316'>1317</a>\u001b[0m     ax, (IntervalIndex, CategoricalIndex)\n\u001b[0;32m   <a href='file:///c%3A/Users/uditk/Desktop/Python%20Projects/ml-test/lib/site-packages/pandas/core/indexing.py?line=1317'>1318</a>\u001b[0m ):\n\u001b[0;32m   <a href='file:///c%3A/Users/uditk/Desktop/Python%20Projects/ml-test/lib/site-packages/pandas/core/indexing.py?line=1318'>1319</a>\u001b[0m     \u001b[39m# For CategoricalIndex take instead of reindex to preserve dtype.\u001b[39;00m\n\u001b[0;32m   <a href='file:///c%3A/Users/uditk/Desktop/Python%20Projects/ml-test/lib/site-packages/pandas/core/indexing.py?line=1319'>1320</a>\u001b[0m     \u001b[39m#  For IntervalIndex this is to map integers to the Intervals they match to.\u001b[39;00m\n\u001b[0;32m   <a href='file:///c%3A/Users/uditk/Desktop/Python%20Projects/ml-test/lib/site-packages/pandas/core/indexing.py?line=1320'>1321</a>\u001b[0m     keyarr \u001b[39m=\u001b[39m ax\u001b[39m.\u001b[39mtake(indexer)\n",
      "File \u001b[1;32mc:\\Users\\uditk\\Desktop\\Python Projects\\ml-test\\lib\\site-packages\\pandas\\core\\indexing.py:1374\u001b[0m, in \u001b[0;36m_LocIndexer._validate_read_indexer\u001b[1;34m(self, key, indexer, axis)\u001b[0m\n\u001b[0;32m   <a href='file:///c%3A/Users/uditk/Desktop/Python%20Projects/ml-test/lib/site-packages/pandas/core/indexing.py?line=1371'>1372</a>\u001b[0m     \u001b[39mif\u001b[39;00m use_interval_msg:\n\u001b[0;32m   <a href='file:///c%3A/Users/uditk/Desktop/Python%20Projects/ml-test/lib/site-packages/pandas/core/indexing.py?line=1372'>1373</a>\u001b[0m         key \u001b[39m=\u001b[39m \u001b[39mlist\u001b[39m(key)\n\u001b[1;32m-> <a href='file:///c%3A/Users/uditk/Desktop/Python%20Projects/ml-test/lib/site-packages/pandas/core/indexing.py?line=1373'>1374</a>\u001b[0m     \u001b[39mraise\u001b[39;00m \u001b[39mKeyError\u001b[39;00m(\u001b[39mf\u001b[39m\u001b[39m\"\u001b[39m\u001b[39mNone of [\u001b[39m\u001b[39m{\u001b[39;00mkey\u001b[39m}\u001b[39;00m\u001b[39m] are in the [\u001b[39m\u001b[39m{\u001b[39;00maxis_name\u001b[39m}\u001b[39;00m\u001b[39m]\u001b[39m\u001b[39m\"\u001b[39m)\n\u001b[0;32m   <a href='file:///c%3A/Users/uditk/Desktop/Python%20Projects/ml-test/lib/site-packages/pandas/core/indexing.py?line=1375'>1376</a>\u001b[0m not_found \u001b[39m=\u001b[39m \u001b[39mlist\u001b[39m(ensure_index(key)[missing_mask\u001b[39m.\u001b[39mnonzero()[\u001b[39m0\u001b[39m]]\u001b[39m.\u001b[39munique())\n\u001b[0;32m   <a href='file:///c%3A/Users/uditk/Desktop/Python%20Projects/ml-test/lib/site-packages/pandas/core/indexing.py?line=1376'>1377</a>\u001b[0m \u001b[39mraise\u001b[39;00m \u001b[39mKeyError\u001b[39;00m(\u001b[39mf\u001b[39m\u001b[39m\"\u001b[39m\u001b[39m{\u001b[39;00mnot_found\u001b[39m}\u001b[39;00m\u001b[39m not in index\u001b[39m\u001b[39m\"\u001b[39m)\n",
      "\u001b[1;31mKeyError\u001b[0m: \"None of [Index(['EMA_10'], dtype='object')] are in the [columns]\""
     ]
    }
   ],
   "source": [
    "X_train, X_test, y_train, y_test = train_test_split(\n",
    "    df[['Close']], df[['EMA_10']], test_size=.2)\n"
   ]
  },
  {
   "cell_type": "code",
   "execution_count": null,
   "metadata": {},
   "outputs": [
    {
     "name": "stdout",
     "output_type": "stream",
     "text": [
      "            Close\n",
      "count  245.000000\n",
      "mean   186.823470\n",
      "std    104.412678\n",
      "min     15.650000\n",
      "25%     44.950001\n",
      "50%    233.699997\n",
      "75%    259.899994\n",
      "max    345.200012\n",
      "            Close\n",
      "count  979.000000\n",
      "mean   192.093514\n",
      "std    104.893279\n",
      "min      0.000000\n",
      "25%     50.725001\n",
      "50%    236.699997\n",
      "75%    264.725006\n",
      "max    359.549988\n"
     ]
    }
   ],
   "source": [
    "print(X_test)\n",
    "print(X_train)\n"
   ]
  },
  {
   "cell_type": "code",
   "execution_count": null,
   "metadata": {},
   "outputs": [],
   "source": [
    "\n",
    "# Create Regression Model\n",
    "model = LinearRegression()\n",
    "# Train the model\n",
    "model.fit(X_train, y_train)\n",
    "y_pred = model.predict(X_test)"
   ]
  },
  {
   "cell_type": "code",
   "execution_count": null,
   "metadata": {},
   "outputs": [
    {
     "name": "stdout",
     "output_type": "stream",
     "text": [
      "Model Coefficients: [[0.98880712]]\n",
      "Mean Absolute Error: 4.3409245774938485\n",
      "Coefficient of Determination: 0.9961259501308131\n"
     ]
    }
   ],
   "source": [
    "# Printout relevant metrics\n",
    "print(\"Model Coefficients:\", model.coef_)\n",
    "print(\"Mean Absolute Error:\", mean_absolute_error(y_test, y_pred))\n",
    "print(\"Coefficient of Determination:\", r2_score(y_test, y_pred))\n"
   ]
  },
  {
   "cell_type": "code",
   "execution_count": null,
   "metadata": {},
   "outputs": [
    {
     "data": {
      "text/html": [
       "<div>\n",
       "<style scoped>\n",
       "    .dataframe tbody tr th:only-of-type {\n",
       "        vertical-align: middle;\n",
       "    }\n",
       "\n",
       "    .dataframe tbody tr th {\n",
       "        vertical-align: top;\n",
       "    }\n",
       "\n",
       "    .dataframe thead th {\n",
       "        text-align: right;\n",
       "    }\n",
       "</style>\n",
       "<table border=\"1\" class=\"dataframe\">\n",
       "  <thead>\n",
       "    <tr style=\"text-align: right;\">\n",
       "      <th></th>\n",
       "      <th>EMA_10</th>\n",
       "    </tr>\n",
       "    <tr>\n",
       "      <th>Date</th>\n",
       "      <th></th>\n",
       "    </tr>\n",
       "  </thead>\n",
       "  <tbody>\n",
       "    <tr>\n",
       "      <th>2019-07-05</th>\n",
       "      <td>262.309159</td>\n",
       "    </tr>\n",
       "    <tr>\n",
       "      <th>2016-03-30</th>\n",
       "      <td>226.622544</td>\n",
       "    </tr>\n",
       "    <tr>\n",
       "      <th>2020-12-17</th>\n",
       "      <td>26.292042</td>\n",
       "    </tr>\n",
       "    <tr>\n",
       "      <th>2020-06-07</th>\n",
       "      <td>17.837331</td>\n",
       "    </tr>\n",
       "    <tr>\n",
       "      <th>2019-03-27</th>\n",
       "      <td>289.921553</td>\n",
       "    </tr>\n",
       "    <tr>\n",
       "      <th>...</th>\n",
       "      <td>...</td>\n",
       "    </tr>\n",
       "    <tr>\n",
       "      <th>2020-01-28</th>\n",
       "      <td>32.956307</td>\n",
       "    </tr>\n",
       "    <tr>\n",
       "      <th>2016-12-20</th>\n",
       "      <td>199.775387</td>\n",
       "    </tr>\n",
       "    <tr>\n",
       "      <th>2017-11-13</th>\n",
       "      <td>226.192288</td>\n",
       "    </tr>\n",
       "    <tr>\n",
       "      <th>2018-07-27</th>\n",
       "      <td>261.932902</td>\n",
       "    </tr>\n",
       "    <tr>\n",
       "      <th>2018-12-10</th>\n",
       "      <td>261.055800</td>\n",
       "    </tr>\n",
       "  </tbody>\n",
       "</table>\n",
       "<p>245 rows × 1 columns</p>\n",
       "</div>"
      ],
      "text/plain": [
       "                EMA_10\n",
       "Date                  \n",
       "2019-07-05  262.309159\n",
       "2016-03-30  226.622544\n",
       "2020-12-17   26.292042\n",
       "2020-06-07   17.837331\n",
       "2019-03-27  289.921553\n",
       "...                ...\n",
       "2020-01-28   32.956307\n",
       "2016-12-20  199.775387\n",
       "2017-11-13  226.192288\n",
       "2018-07-27  261.932902\n",
       "2018-12-10  261.055800\n",
       "\n",
       "[245 rows x 1 columns]"
      ]
     },
     "execution_count": 62,
     "metadata": {},
     "output_type": "execute_result"
    }
   ],
   "source": [
    "y_test"
   ]
  }
 ],
 "metadata": {
  "interpreter": {
   "hash": "dd7d54034a3beb889cf6ec628165ba5228a44cc7e12101a5b2dd0023d07ec2ae"
  },
  "kernelspec": {
   "display_name": "Python 3.9.5 64-bit ('ml-test': venv)",
   "language": "python",
   "name": "python3"
  },
  "language_info": {
   "codemirror_mode": {
    "name": "ipython",
    "version": 3
   },
   "file_extension": ".py",
   "mimetype": "text/x-python",
   "name": "python",
   "nbconvert_exporter": "python",
   "pygments_lexer": "ipython3",
   "version": "3.9.5"
  },
  "orig_nbformat": 4
 },
 "nbformat": 4,
 "nbformat_minor": 2
}
